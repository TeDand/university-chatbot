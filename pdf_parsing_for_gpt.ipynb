{
  "nbformat": 4,
  "nbformat_minor": 0,
  "metadata": {
    "colab": {
      "provenance": [],
      "authorship_tag": "ABX9TyNhQ81Te34+OqwycetUh07J",
      "include_colab_link": true
    },
    "kernelspec": {
      "name": "python3",
      "display_name": "Python 3"
    },
    "language_info": {
      "name": "python"
    }
  },
  "cells": [
    {
      "cell_type": "markdown",
      "metadata": {
        "id": "view-in-github",
        "colab_type": "text"
      },
      "source": [
        "<a href=\"https://colab.research.google.com/github/TeDand/university-chatbot/blob/main/pdf_parsing_for_gpt.ipynb\" target=\"_parent\"><img src=\"https://colab.research.google.com/assets/colab-badge.svg\" alt=\"Open In Colab\"/></a>"
      ]
    },
    {
      "cell_type": "code",
      "source": [
        "from google.colab import drive\n",
        "drive.mount('/content/drive')"
      ],
      "metadata": {
        "colab": {
          "base_uri": "https://localhost:8080/"
        },
        "id": "ChuyvU5uShu4",
        "outputId": "bfebc65f-f4e2-4b07-be70-d67324f5676e"
      },
      "execution_count": null,
      "outputs": [
        {
          "output_type": "stream",
          "name": "stdout",
          "text": [
            "Drive already mounted at /content/drive; to attempt to forcibly remount, call drive.mount(\"/content/drive\", force_remount=True).\n"
          ]
        }
      ]
    },
    {
      "cell_type": "code",
      "source": [
        "!pip install PyPDF2"
      ],
      "metadata": {
        "colab": {
          "base_uri": "https://localhost:8080/"
        },
        "id": "iDTnJOKmT0S2",
        "outputId": "1f03421f-ee9b-44cf-a387-bfb27566f681"
      },
      "execution_count": null,
      "outputs": [
        {
          "output_type": "stream",
          "name": "stdout",
          "text": [
            "Looking in indexes: https://pypi.org/simple, https://us-python.pkg.dev/colab-wheels/public/simple/\n",
            "Requirement already satisfied: PyPDF2 in /usr/local/lib/python3.10/dist-packages (3.0.1)\n"
          ]
        }
      ]
    },
    {
      "cell_type": "code",
      "source": [
        "!pip install jsonlines"
      ],
      "metadata": {
        "colab": {
          "base_uri": "https://localhost:8080/"
        },
        "id": "PHu_zfrPFFwL",
        "outputId": "b0097373-1032-491a-d9d2-ca3e1324797d"
      },
      "execution_count": null,
      "outputs": [
        {
          "output_type": "stream",
          "name": "stdout",
          "text": [
            "Looking in indexes: https://pypi.org/simple, https://us-python.pkg.dev/colab-wheels/public/simple/\n",
            "Requirement already satisfied: jsonlines in /usr/local/lib/python3.10/dist-packages (3.1.0)\n",
            "Requirement already satisfied: attrs>=19.2.0 in /usr/local/lib/python3.10/dist-packages (from jsonlines) (23.1.0)\n"
          ]
        }
      ]
    },
    {
      "cell_type": "code",
      "source": [
        "import os\n",
        "import PyPDF2\n",
        "import random\n",
        "import jsonlines"
      ],
      "metadata": {
        "id": "IE0ebVdxxgLa"
      },
      "execution_count": null,
      "outputs": []
    },
    {
      "cell_type": "code",
      "source": [
        "def pdf_to_string(pdf_path):\n",
        "    with open(pdf_path, 'rb') as file:\n",
        "        pdf_reader = PyPDF2.PdfReader(file)\n",
        "        num_pages = len(pdf_reader.pages)\n",
        "        text = ''\n",
        "        for page_num in range(num_pages):\n",
        "            page = pdf_reader.pages[page_num]\n",
        "            text += page.extract_text()\n",
        "        return text\n",
        "\n",
        "def txt_to_string(txt_path):\n",
        "  text = ''\n",
        "  with open(txt_path, 'r') as file:\n",
        "    text = file.read()\n",
        "  return text\n",
        "\n",
        "def extract_random_substring(raw_words, length):\n",
        "  start_index = random.randint(0, len(raw_words) - length)\n",
        "  end_index = start_index + length\n",
        "  return raw_words[start_index:end_index]\n",
        "\n",
        "def reconstruct_string(word_list):\n",
        "  ret = \"\"\n",
        "\n",
        "  for word in word_list:\n",
        "    ret += word\n",
        "    ret += \" \"\n",
        "\n",
        "  return ret"
      ],
      "metadata": {
        "id": "KtDbc6apxxRf"
      },
      "execution_count": null,
      "outputs": []
    },
    {
      "cell_type": "code",
      "source": [
        "documents_directory = '/content/drive/MyDrive/CSE 256 Group Project/pdfs'\n",
        "raw_text = \"\"\n",
        "\n",
        "for filename in os.listdir(documents_directory):\n",
        "  pdf_file_path = os.path.join(documents_directory, filename)\n",
        "  if os.path.isfile(pdf_file_path) and pdf_file_path.lower().endswith('.pdf'):\n",
        "      print(filename)\n",
        "\n",
        "      pdf_text = pdf_to_string(pdf_file_path)\n",
        "      raw_text += pdf_text\n",
        "\n",
        "raw_words = raw_text.split()"
      ],
      "metadata": {
        "colab": {
          "base_uri": "https://localhost:8080/"
        },
        "id": "jvUgdHvXSkwd",
        "outputId": "2afb9b76-fe5b-4a17-9ae8-1c1f23cc0b6a"
      },
      "execution_count": null,
      "outputs": [
        {
          "output_type": "stream",
          "name": "stdout",
          "text": [
            "coming-to-ucsd-guide.pdf\n",
            "ispo-welcome-guide.pdf\n"
          ]
        }
      ]
    },
    {
      "cell_type": "code",
      "source": [
        "print(raw_words[:100])"
      ],
      "metadata": {
        "colab": {
          "base_uri": "https://localhost:8080/"
        },
        "id": "z81f5GL5BSxV",
        "outputId": "36eb6be2-edf9-49c3-8ac7-b243fda1505d"
      },
      "execution_count": null,
      "outputs": [
        {
          "output_type": "stream",
          "name": "stdout",
          "text": [
            "['Surf', 'Check:', 'Coming', 'to', 'UC', 'San', 'Diego', 'What', 'is', 'Surf', 'Check?', 'A', 'surf', 'check', 'is', 'an', 'action', 'done', 'by', 'surfers', 'to', 'survey', 'various', 'conditions', 'at', 'a', 'location', 'to', 'get', 'an', 'understanding', 'of', 'what', 'the', 'surf', 'conditions', 'will', 'be', 'like.', 'Each', 'surfer', 'may', 'look', 'for', 'diﬀ', 'erent', 'things;', 'some', 'surfers', 'may', 'be', 'looking', 'for', 'huge', 'waves', 'while', 'some', 'may', 'just', 'be', 'looking', 'for', 'windless', 'classic', 'waves.', 'Just', 'like', 'surf', 'check,', 'ISPO', 'will', 'be', 'providing', 'the', 'necessary', 'knowledge', 'and', 'experience', 'to', 'help', 'you', 'navigate', 'your', 'way', 'to', 'an', 'exemplary', 'experience', 'at', 'UC', 'San', 'Diego.', 'From', 'what', 'to', 'pack', 'when', 'coming', 'to', 'the']\n"
          ]
        }
      ]
    },
    {
      "cell_type": "code",
      "source": [
        "prompt_number = 17323\n",
        "data = []\n",
        "\n",
        "for _ in range(prompt_number):\n",
        "  substring_length = random.randint(20, 100)\n",
        "  prompt_length = random.randint(10, 10 + int(0.4 * substring_length))\n",
        "\n",
        "  random_substring = extract_random_substring(raw_words, substring_length)\n",
        "  prompt = random_substring[:prompt_length]\n",
        "  completion = random_substring[prompt_length:]\n",
        "  # print(\"FULL SUBSTRING\")\n",
        "  # print(reconstruct_string(random_substring))\n",
        "  # print(\"-------------------------------------------------\")\n",
        "  # print(\"PROMPT\")\n",
        "  # print(reconstruct_string(prompt))\n",
        "  # print(\"-------------------------------------------------\")\n",
        "  # print(\"COMPLETION\")\n",
        "  # print(reconstruct_string(completion))\n",
        "  # print(\"-------------------------------------------------\")\n",
        "\n",
        "  data.append({\"prompt\": reconstruct_string(prompt) + \"\\n\\n###\\n\\n\", \"completion\": \" \" + reconstruct_string(completion) + \"###\"})\n",
        "\n",
        "data[0]"
      ],
      "metadata": {
        "colab": {
          "base_uri": "https://localhost:8080/"
        },
        "id": "HKXTYrcHYv2B",
        "outputId": "ffe5cda1-8136-43f6-99ac-39f8d1379f9d"
      },
      "execution_count": null,
      "outputs": [
        {
          "output_type": "execute_result",
          "data": {
            "text/plain": [
              "{'prompt': 'need? What is your budget? • Does your cell phone work overseas? Which Mobile \\n\\n###\\n\\n',\n",
              " 'completion': ' Network Operator will your phone work with? T-Mobile Mint Mobile Verizon AT&T ###'}"
            ]
          },
          "metadata": {},
          "execution_count": 6
        }
      ]
    },
    {
      "cell_type": "code",
      "source": [
        "# Specify the path to the output JSONL file\n",
        "jsonl_file = \"/content/drive/MyDrive/CSE 256 Group Project/gpt3_finetuning_data_pdfs.jsonl\"\n",
        "\n",
        "# Open the JSONL file in write mode\n",
        "with jsonlines.open(jsonl_file, mode='w') as writer:\n",
        "  # Write each dictionary as a separate line in the JSONL file\n",
        "  for item in data:\n",
        "    writer.write(item)"
      ],
      "metadata": {
        "id": "co6sfu5VV3sZ"
      },
      "execution_count": null,
      "outputs": []
    },
    {
      "cell_type": "code",
      "source": [
        "documents_directory = '/content/drive/MyDrive/CSE 256 Group Project/webpages'\n",
        "raw_text = \"\"\n",
        "\n",
        "for filename in os.listdir(documents_directory):\n",
        "  txt_file_path = os.path.join(documents_directory, filename)\n",
        "  if os.path.isfile(txt_file_path) and txt_file_path.lower().endswith('.txt'):\n",
        "      print(filename)\n",
        "\n",
        "      txt_text = txt_to_string(txt_file_path)\n",
        "      raw_text += txt_text\n",
        "\n",
        "raw_words = raw_text.split()"
      ],
      "metadata": {
        "id": "LtwCVNCQZHFp",
        "colab": {
          "base_uri": "https://localhost:8080/"
        },
        "outputId": "22d310bd-82fb-4825-ea33-d2e7bf7a5a10"
      },
      "execution_count": null,
      "outputs": [
        {
          "output_type": "stream",
          "name": "stdout",
          "text": [
            "ispo.ucsd.edu_programs-workshops_ispo-guides.html#main-content.txt\n",
            "ispo.ucsd.edu_about_reports-publications.html.txt\n",
            "ispo.ucsd.edu_advising_index.html.txt\n",
            "ispo.ucsd.edu_advising_family-dependents_index.html.txt\n",
            "ispo.ucsd.edu_campus-partners_advising-international-students_iresource.html#Interpretation-Services.txt\n",
            "ispo.ucsd.edu_submit-request_i20-ds2019-funding.html.txt\n",
            "ispo.ucsd.edu_news_campus-announcements.html#main-content.txt\n",
            "ispo.ucsd.edu_news_ispo-news.html#main-content.txt\n",
            "ispo.ucsd.edu_advising_culture-diversity.html#main-content.txt\n",
            "ispo.ucsd.edu_programs-workshops_isac.html#main-content.txt\n",
            "ispo.ucsd.edu_campus-partners_hosting-student.html.txt\n",
            "ispo.ucsd.edu_advising_health-wellness-recreation_index.html.txt\n",
            "ispo.ucsd.edu_about_strategic-plan_index.html#main-content.txt\n",
            "ispo.ucsd.edu_advising_financial_index.html.txt\n",
            "ispo.ucsd.edu_programs-workshops_workshops-webinars_index.html#main-content.txt\n",
            "ispo.ucsd.edu_programs-workshops_peer-mentorship-programs_index.html.txt\n",
            "ispo.ucsd.edu_programs-workshops_ispo-guides.html.txt\n",
            "ispo.ucsd.edu_campus-partners_advising-international-students_iresource.html#main-content.txt\n",
            "ispo.ucsd.edu_advising_visa_current-returning-students_work_index.html.txt\n",
            "ispo.ucsd.edu_news_coronavirus-info_index.html.txt\n",
            "ispo.ucsd.edu_advising_visa_index.html#main-content.txt\n",
            "ispo.ucsd.edu_campus-partners_glossary.html.txt\n",
            "ispo.ucsd.edu_campus-partners_workshops-presentations.html.txt\n",
            "ispo.ucsd.edu_campus-partners_data-request-form.html.txt\n",
            "ispo.ucsd.edu_news_advocacy.html.txt\n",
            "ispo.ucsd.edu_campus-partners_employing-international-students.html.txt\n",
            "ispo.ucsd.edu_news_immigration-policy-archived_index.html#main-content.txt\n",
            "ispo.ucsd.edu_advising_visa_current-returning-students_travel_index.html#main-content.txt\n",
            "ispo.ucsd.edu_campus-partners_hosting-student.html#main-content.txt\n",
            "ispo.ucsd.edu_campus-partners_iportal-departments.html#main-content.txt\n",
            "ispo.ucsd.edu_submit-request_supporting-documents.html#main-content.txt\n",
            "ispo.ucsd.edu_advising_culture-diversity.html.txt\n",
            "ispo.ucsd.edu_news_immigration-policy.html#main-content.txt\n",
            "ispo.ucsd.edu_submit-request_GLI-HSI-ISRP-requests.html#main-content.txt\n",
            "ispo.ucsd.edu_advising_transportation.html.txt\n",
            "ispo.ucsd.edu_news_immigration-policy-archived_index.html.txt\n",
            "ispo.ucsd.edu_submit-request_document-mailing.html.txt\n",
            "ispo.ucsd.edu_campus-partners_iportal-departments.html.txt\n",
            "ispo.ucsd.edu_campus-partners_presentation-and-tabling-request-form.html.txt\n",
            "ispo.ucsd.edu_news_campus-announcements.html.txt\n",
            "ispo.ucsd.edu_submit-request_instructions-troubleshooting.html.txt\n",
            "ispo.ucsd.edu_campus-partners_presentation-and-tabling-request-form.html#main-content.txt\n",
            "ispo.ucsd.edu_programs-workshops_orientation_index.html.txt\n",
            "ispo.ucsd.edu_about_edi-commitment.html.txt\n",
            "ispo.ucsd.edu_campus-partners_advising-international-students_index.html#main-content.txt\n",
            "ispo.ucsd.edu_programs-workshops_programs-events_index.html.txt\n",
            "ispo.ucsd.edu_advising_family-dependents_index.html#main-content.txt\n",
            "ispo.ucsd.edu_programs-workshops_workshops-webinars_index.html.txt\n",
            "ispo.ucsd.edu_contact_index.html#main-content.txt\n",
            "ispo.ucsd.edu_about_index.html.txt\n",
            "ispo.ucsd.edu_submit-request_index.html.txt\n",
            "ispo.ucsd.edu_programs-workshops_programs-events_index.html#main-content.txt\n",
            "ispo.ucsd.edu_news_coronavirus-info_index.html#main-content.txt\n",
            "ispo.ucsd.edu_advising_transportation.html#main-content.txt\n",
            "ispo.ucsd.edu_programs-workshops_orientation_index.html#main-content.txt\n",
            "ispo.ucsd.edu_campus-partners_employing-international-students.html#main-content.txt\n",
            "ispo.ucsd.edu_advising_housing.html#main-content.txt\n",
            "ispo.ucsd.edu_advising_housing.html.txt\n",
            "ispo.ucsd.edu_news_immigration-policy.html.txt\n",
            "ispo.ucsd.edu_about_index.html#main-content.txt\n",
            "ispo.ucsd.edu_advising_safety-legal.html.txt\n",
            "ispo.ucsd.edu_submit-request_instructions-troubleshooting.html#main-content.txt\n",
            "ispo.ucsd.edu_programs-workshops_peer-mentorship-programs_index.html#main-content.txt\n",
            "ispo.ucsd.edu_about_strategic-plan_index.html.txt\n",
            "ispo.ucsd.edu_submit-request_i20-ds2019-funding.html#main-content.txt\n",
            "ispo.ucsd.edu_advising_academic-english.html#main-content.txt\n",
            "ispo.ucsd.edu_programs-workshops_events-calendar.html#main-content.txt\n",
            "ispo.ucsd.edu_submit-request_processing-times.html#main-content.txt\n",
            "ispo.ucsd.edu_about_intl-student-spotlight.html#main-content.txt\n",
            "ispo.ucsd.edu_advising_visa_current-returning-students_travel_index.html.txt\n",
            "ispo.ucsd.edu_advising_visa_index.html.txt\n",
            "ispo.ucsd.edu_campus-partners_data-request-form.html#main-content.txt\n",
            "ispo.ucsd.edu_submit-request_GLI-HSI-ISRP-requests.html.txt\n",
            "ispo.ucsd.edu_submit-request_supporting-documents.html.txt\n",
            "ispo.ucsd.edu_news_advocacy.html#main-content.txt\n",
            "ispo.ucsd.edu_advising_financial_index.html#main-content.txt\n",
            "ispo.ucsd.edu_programs-workshops_events-calendar.html.txt\n",
            "ispo.ucsd.edu_campus-partners_index.html.txt\n",
            "ispo.ucsd.edu_submit-request_processing-times.html.txt\n",
            "ispo.ucsd.edu_advising_safety-legal.html#main-content.txt\n",
            "ispo.ucsd.edu_submit-request_index.html#main-content.txt\n",
            "ispo.ucsd.edu_advising_academic-english.html.txt\n",
            "ispo.ucsd.edu_advising_health-wellness-recreation_index.html#main-content.txt\n",
            "ispo.ucsd.edu_advising_index.html#main-content.txt\n",
            "ispo.ucsd.edu_news_ispo-news.html.txt\n",
            "ispo.ucsd.edu_about_edi-commitment.html#main-content.txt\n",
            "ispo.ucsd.edu_contact_index.html.txt\n",
            "ispo.ucsd.edu_advising_visa_current-returning-students_work_index.html#main-content.txt\n",
            "ispo.ucsd.edu_campus-partners_advising-international-students_index.html.txt\n",
            "ispo.ucsd.edu_about_intl-student-spotlight.html.txt\n",
            "ispo.ucsd.edu_about_reports-publications.html#main-content.txt\n",
            "ispo.ucsd.edu_campus-partners_index.html#main-content.txt\n",
            "ispo.ucsd.edu_submit-request_document-mailing.html#main-content.txt\n",
            "ispo.ucsd.edu_campus-partners_glossary.html#main-content.txt\n",
            "ispo.ucsd.edu_programs-workshops_isac.html.txt\n",
            "ispo.ucsd.edu_campus-partners_workshops-presentations.html#main-content.txt\n"
          ]
        }
      ]
    },
    {
      "cell_type": "code",
      "source": [
        "prompt_number = 17323\n",
        "data = []\n",
        "\n",
        "for _ in range(prompt_number):\n",
        "  substring_length = random.randint(20, 100)\n",
        "  prompt_length = random.randint(10, 10 + int(0.4 * substring_length))\n",
        "\n",
        "  random_substring = extract_random_substring(raw_words, substring_length)\n",
        "  prompt = random_substring[:prompt_length]\n",
        "  completion = random_substring[prompt_length:]\n",
        "  # print(\"FULL SUBSTRING\")\n",
        "  # print(reconstruct_string(random_substring))\n",
        "  # print(\"-------------------------------------------------\")\n",
        "  # print(\"PROMPT\")\n",
        "  # print(reconstruct_string(prompt))\n",
        "  # print(\"-------------------------------------------------\")\n",
        "  # print(\"COMPLETION\")\n",
        "  # print(reconstruct_string(completion))\n",
        "  # print(\"-------------------------------------------------\")\n",
        "\n",
        "  data.append({\"prompt\": reconstruct_string(prompt) + \"\\n\\n###\\n\\n\", \"completion\": \" \" + reconstruct_string(completion) + \"###\"})\n",
        "\n",
        "data[0]"
      ],
      "metadata": {
        "colab": {
          "base_uri": "https://localhost:8080/"
        },
        "id": "EINwwW5tBnhS",
        "outputId": "4fc210b6-5af9-40f6-a46b-5d2e51d693e4"
      },
      "execution_count": null,
      "outputs": [
        {
          "output_type": "execute_result",
          "data": {
            "text/plain": [
              "{'prompt': 'space. Let’s Talk, an informal, drop-in conversation, is held each week at a different location on campus. Similar to faculty \\n\\n###\\n\\n',\n",
              " 'completion': ' office hours, these sessions introduce students to ###'}"
            ]
          },
          "metadata": {},
          "execution_count": 10
        }
      ]
    },
    {
      "cell_type": "code",
      "source": [
        "# Specify the path to the output JSONL file\n",
        "jsonl_file = \"/content/drive/MyDrive/CSE 256 Group Project/gpt3_finetuning_data_webpages.jsonl\"\n",
        "\n",
        "# Open the JSONL file in write mode\n",
        "with jsonlines.open(jsonl_file, mode='w') as writer:\n",
        "  # Write each dictionary as a separate line in the JSONL file\n",
        "  for item in data:\n",
        "    writer.write(item)"
      ],
      "metadata": {
        "id": "S5pZWCAsDPyA"
      },
      "execution_count": null,
      "outputs": []
    }
  ]
}