{
  "nbformat": 4,
  "nbformat_minor": 0,
  "metadata": {
    "colab": {
      "provenance": [],
      "authorship_tag": "ABX9TyPV+7/6mhzwxqOV9tAxWPxu",
      "include_colab_link": true
    },
    "kernelspec": {
      "name": "python3",
      "display_name": "Python 3"
    },
    "language_info": {
      "name": "python"
    }
  },
  "cells": [
    {
      "cell_type": "markdown",
      "metadata": {
        "id": "view-in-github",
        "colab_type": "text"
      },
      "source": [
        "<a href=\"https://colab.research.google.com/github/TeDand/university-chatbot/blob/main/git_commands.ipynb\" target=\"_parent\"><img src=\"https://colab.research.google.com/assets/colab-badge.svg\" alt=\"Open In Colab\"/></a>"
      ]
    },
    {
      "cell_type": "code",
      "execution_count": null,
      "metadata": {
        "colab": {
          "base_uri": "https://localhost:8080/"
        },
        "id": "K5Mibmic2Exu",
        "outputId": "870d0bd0-6209-4eed-babc-b165ea85a540"
      },
      "outputs": [
        {
          "output_type": "stream",
          "name": "stdout",
          "text": [
            "hello world\n"
          ]
        }
      ],
      "source": [
        "!git config --global user.name \"your_username\"\n",
        "!git config --global user.email \"youremail@yahoo.com\"\n",
        "!git config --global user.password \"y0urp4SSw0Rd!\"\n",
        "\n",
        "token = 'your_token'\n",
        "username = 'your_username'\n",
        "repo = 'university-chatbot'"
      ]
    },
    {
      "cell_type": "markdown",
      "source": [
        "# Clone Repo"
      ],
      "metadata": {
        "id": "TOdcz45SHpwL"
      }
    },
    {
      "cell_type": "code",
      "source": [
        "!git clone https://{token}@github.com/{username}/{repo}\n",
        "%cd {repo}"
      ],
      "metadata": {
        "id": "KZZJ1jwRHpcy"
      },
      "execution_count": null,
      "outputs": []
    },
    {
      "cell_type": "markdown",
      "source": [
        "# Pulling Latest changes"
      ],
      "metadata": {
        "id": "iZSe-LrGH_cj"
      }
    },
    {
      "cell_type": "code",
      "source": [
        "!git pull"
      ],
      "metadata": {
        "id": "TkInnWFPH_B-"
      },
      "execution_count": null,
      "outputs": []
    },
    {
      "cell_type": "markdown",
      "source": [
        "# Committing Changes"
      ],
      "metadata": {
        "id": "GJHTszRzH6Hq"
      }
    },
    {
      "cell_type": "code",
      "source": [
        "msg = \"Added a file to the LeetCode folder\"\n",
        "\n",
        "!git add --all\n",
        "!git commit -a -m msg\n",
        "!git remote -v\n",
        "!git push origin master"
      ],
      "metadata": {
        "id": "KQonDBOxH5LO"
      },
      "execution_count": null,
      "outputs": []
    }
  ]
}